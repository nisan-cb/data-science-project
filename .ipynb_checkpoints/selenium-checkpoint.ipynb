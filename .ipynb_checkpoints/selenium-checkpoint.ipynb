{
 "cells": [
  {
   "cell_type": "code",
   "execution_count": null,
   "id": "27a0ff8c",
   "metadata": {},
   "outputs": [],
   "source": [
    "from selenium import webdriver\n",
    "from selenium.webdriver.common.keys import Keys\n",
    "from selenium.webdriver.common.by import By\n",
    "from selenium.webdriver.support.ui import WebDriverWait\n",
    "from selenium.webdriver.support import expected_conditions as EC\n",
    "from selenium.common.exceptions import NoSuchElementException\n",
    "import os\n",
    "import requests\n",
    "import urllib.request\n",
    "import numpy as np\n",
    "import matplotlib.pyplot as plt\n",
    "import pandas as pd\n",
    "from tqdm import tqdm\n",
    "import time\n",
    "\n"
   ]
  },
  {
   "cell_type": "code",
   "execution_count": null,
   "id": "452d98e9",
   "metadata": {},
   "outputs": [],
   "source": [
    "route_id = '9847'\n",
    "page_url = 'https://data.gov.il/dataset/arrivaltostationdayandhours/resource/c96b9865-006d-4c69-8d6a-bfbdea5d6da5/view/1e7d5e63-e899-46f0-84ec-ad225fadae36'\n",
    "user_agent = 'datagov-external-client'\n",
    "filters_list = [\n",
    "        ('route_id',route_id),    \n",
    "]\n",
    "route_id_ls=[]\n",
    "month_ls=[]\n",
    "day_of_week_ls=[]\n",
    "hour_source_time_ls=[]\n",
    "stop_sequence_ls=[]\n",
    "stop_code_ls=[]\n",
    "arrival_time_ls=[]\n",
    "distance_from_src_ls=[]"
   ]
  },
  {
   "cell_type": "code",
   "execution_count": null,
   "id": "127b41a5",
   "metadata": {},
   "outputs": [],
   "source": [
    "def set_filters(driver):\n",
    "    # Wait for the filter element to be loaded\n",
    "    wait = WebDriverWait(driver, 10)  # Maximum wait time of 10 seconds\n",
    "    filter_btn = wait.until(EC.presence_of_element_located((By.CSS_SELECTOR, \".menu-right .btn-group button[data-action='valueFilter']\")))\n",
    "    filter_btn.click()\n",
    "    \n",
    "    add_filters(driver,filters_list)"
   ]
  },
  {
   "cell_type": "code",
   "execution_count": null,
   "id": "0a8dd764",
   "metadata": {},
   "outputs": [],
   "source": [
    "def add_filters(driver, filters_list):\n",
    "    for filter_obj in filters_list:\n",
    "        option_name, value = filter_obj\n",
    "        # click add filter to open select element         \n",
    "        add_filter_btn = driver.find_element_by_css_selector('button.add-filter')\n",
    "        add_filter_btn.click()\n",
    "        \n",
    "        # select element\n",
    "        select_element = driver.find_element_by_css_selector('fieldset select')\n",
    "        select_element.click()\n",
    "        \n",
    "        # option element     \n",
    "        route_id_option = select_element.find_element_by_css_selector(f'option[value={option_name}]')\n",
    "        route_id_option.click()\n",
    "        select_element.click()\n",
    "    \n",
    "        add_btn = driver.find_element_by_css_selector('fieldset button[type=\"submit\"]')\n",
    "        add_btn.click()\n",
    "\n",
    "        input_element = driver.find_element_by_css_selector(f'fieldset input[data-filter-field={option_name}]')\n",
    "        input_element.clear()\n",
    "        input_element.send_keys(value)\n",
    "\n",
    "        update_btn = driver.find_element_by_css_selector('button.update-filter')\n",
    "        update_btn.click()\n",
    "    time.sleep(5)\n",
    "    return"
   ]
  },
  {
   "cell_type": "code",
   "execution_count": null,
   "id": "33e23189",
   "metadata": {},
   "outputs": [],
   "source": [
    "def next_page(driver, css_selector):\n",
    "    el = driver.find_element_by_css_selector(css_selector)\n",
    "    el.click()"
   ]
  },
  {
   "cell_type": "code",
   "execution_count": null,
   "id": "dff2be45",
   "metadata": {},
   "outputs": [],
   "source": [
    "def extract_data_from_row_element(el):\n",
    "    route_id_ls.append(el.find_element_by_css_selector('.l2').text)\n",
    "    month_ls.append(el.find_element_by_css_selector('.l1').text)\n",
    "    day_of_week_ls.append(el.find_element_by_css_selector('.l3').text)\n",
    "    hour_source_time_ls.append(el.find_element_by_css_selector('.l4').text)\n",
    "    stop_sequence_ls.append(el.find_element_by_css_selector('.l5').text)\n",
    "    stop_code_ls.append(el.find_element_by_css_selector('.l6').text)\n",
    "    arrival_time_ls.append(el.find_element_by_css_selector('.l8').text)\n",
    "    distance_from_src_ls.append(el.find_element_by_css_selector('.l10').text)"
   ]
  },
  {
   "cell_type": "code",
   "execution_count": null,
   "id": "49aa6588",
   "metadata": {},
   "outputs": [],
   "source": [
    "def get_data_from_current_page(driver):\n",
    "\n",
    "    try:\n",
    "        # get first row element    \n",
    "        row = driver.find_element_by_css_selector('.grid-canvas .slick-row')\n",
    "        while(row != None):\n",
    "            # marker the row and scroll element into view \n",
    "            driver.execute_script(\"arguments[0].style.border='2px solid red';\", row)\n",
    "            driver.execute_script(\"arguments[0].scrollIntoView();\", row)\n",
    "            \n",
    "            extract_data_from_row_element(row)\n",
    "            \n",
    "\n",
    "            # get next row         \n",
    "            row = row.find_element_by_xpath(\"following-sibling::*\")\n",
    "    except NoSuchElementException as e:\n",
    "        row=None\n",
    "\n"
   ]
  },
  {
   "cell_type": "code",
   "execution_count": null,
   "id": "761e71bd",
   "metadata": {},
   "outputs": [],
   "source": [
    "def get_total_results_number(driver, css_selector):\n",
    "    el = driver.find_element_by_css_selector(css_selector)\n",
    "    return int(el.text)"
   ]
  },
  {
   "cell_type": "code",
   "execution_count": null,
   "id": "89d67b40",
   "metadata": {},
   "outputs": [],
   "source": [
    "def scrape_data(page_url,user_agent,css_selectors=[]):\n",
    "    \n",
    "    options = webdriver.ChromeOptions()\n",
    "    options.add_argument(f\"--user-agent={user_agent}\")\n",
    "    driver = webdriver.Chrome(executable_path='./chromedriver', options=options)\n",
    "    driver.get(page_url)\n",
    "    \n",
    "    # set filters\n",
    "    set_filters(driver)\n",
    "    desired_number_of_rows = get_total_results_number(driver,'.doc-count')\n",
    "    \n",
    "    while(len(route_id_ls) < desired_number_of_rows):\n",
    "        get_data_from_current_page(driver)\n",
    "        next_page(driver, 'li.next a')\n",
    "        time.sleep(3)    \n",
    "    \n",
    "    driver.quit()"
   ]
  },
  {
   "cell_type": "code",
   "execution_count": null,
   "id": "5090cbf7",
   "metadata": {},
   "outputs": [],
   "source": [
    "route_id_ls=[]\n",
    "month_ls=[]\n",
    "day_of_week_ls=[]\n",
    "hour_source_time_ls=[]\n",
    "stop_sequence_ls=[]\n",
    "stop_code_ls=[]\n",
    "arrival_time_ls=[]\n",
    "distance_from_src_ls=[]\n",
    "\n",
    "scrape_data(page_url,user_agent)\n",
    "len(route_id_ls)"
   ]
  },
  {
   "cell_type": "code",
   "execution_count": null,
   "id": "729b049a",
   "metadata": {},
   "outputs": [],
   "source": [
    "dic = {\n",
    "    'route_id':route_id_ls,\n",
    "    'month':month_ls,\n",
    "    'day_of_week':day_of_week_ls,\n",
    "    'hour_source_time':hour_source_time_ls,\n",
    "    'stop_sequence':stop_sequence_ls,\n",
    "    'stop_code':stop_code_ls,\n",
    "    'distance_from_src':distance_from_src_ls,\n",
    "    'arrival_time':arrival_time_ls,\n",
    "}\n",
    "\n",
    "df = pd.DataFrame(dic)"
   ]
  },
  {
   "cell_type": "code",
   "execution_count": null,
   "id": "23446914",
   "metadata": {},
   "outputs": [],
   "source": [
    "df.to_csv('dataset.csv', index=False)"
   ]
  },
  {
   "cell_type": "code",
   "execution_count": null,
   "id": "e078f2d7",
   "metadata": {},
   "outputs": [],
   "source": []
  }
 ],
 "metadata": {
  "kernelspec": {
   "display_name": "Python 3 (ipykernel)",
   "language": "python",
   "name": "python3"
  },
  "language_info": {
   "codemirror_mode": {
    "name": "ipython",
    "version": 3
   },
   "file_extension": ".py",
   "mimetype": "text/x-python",
   "name": "python",
   "nbconvert_exporter": "python",
   "pygments_lexer": "ipython3",
   "version": "3.9.12"
  }
 },
 "nbformat": 4,
 "nbformat_minor": 5
}
